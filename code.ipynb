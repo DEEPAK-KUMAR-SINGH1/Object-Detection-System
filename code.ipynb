{
 "cells": [
  {
   "cell_type": "code",
   "execution_count": null,
   "id": "b6ed5f75",
   "metadata": {},
   "outputs": [],
   "source": [
    "# Import the OpenCV library\n",
    "import cv2\n",
    "\n",
    "# Load the video\n",
    "cap = cv2.VideoCapture('video.mp4')\n",
    "\n",
    "# Load the Haar Cascade model for cars\n",
    "car_cascade = cv2.CascadeClassifier('cars.xml')\n",
    "\n",
    "# Start processing frames in a loop\n",
    "while True:\n",
    "    # Read a frame from the video\n",
    "    ret, frames = cap.read()\n",
    "    \n",
    "    #Convert the frame to grayscale\n",
    "    gray = cv2.cvtColor(frames, cv2.COLOR_BGR2GRAY)\n",
    "    \n",
    "    #Detect cars in the grayscale image\n",
    "    cars = car_cascade.detectMultiScale(gray, 1.1, 9)\n",
    "    \n",
    "    \n",
    "    # Loop through detected cars and draw rectangles\n",
    "    for (x,y,w,h) in cars:\n",
    "        # Crop detected car from the frame\n",
    "        plate = frames[y:y + h, x:x + w]\n",
    "        \n",
    "        # Draw a bounding rectangle around each car\n",
    "        cv2.rectangle(frames,(x,y),(x +w, y +h) ,(51 ,51,255),2)\n",
    "        \n",
    "        # Draw a filled label box above the car\n",
    "        cv2.rectangle(frames, (x, y - 40), (x + w, y), (51,51,255), -2)\n",
    "        \n",
    "        # Add the text “Car” above each detected car\n",
    "        cv2.putText(frames, 'Car', (x, y - 10), cv2.FONT_HERSHEY_SIMPLEX, 0.7, (255, 255, 255), 2)\n",
    "        \n",
    "        # Show each cropped car image\n",
    "        cv2.imshow('car',plate)\n",
    "        \n",
    "        \n",
    "    # Resize frame for display\n",
    "    frames = cv2.resize(frames,(600,400))\n",
    "    \n",
    "    # Show the main frame with bounding boxes\n",
    "    cv2.imshow('Car Detection System', frames)\n",
    "    \n",
    "    cv2.resizeWindow('Car Detection System', 600, 600)\n",
    "    \n",
    "    # Wait for ESC key (ASCII 27) to exit\n",
    "    k = cv2.waitKey(30) & 0xff\n",
    "    if k == 27:\n",
    "        break\n",
    "    \n",
    "# Clean up after exiting\n",
    "cv2.destroyAllWindows()"
   ]
  }
 ],
 "metadata": {
  "kernelspec": {
   "display_name": "Python 3",
   "language": "python",
   "name": "python3"
  },
  "language_info": {
   "codemirror_mode": {
    "name": "ipython",
    "version": 3
   },
   "file_extension": ".py",
   "mimetype": "text/x-python",
   "name": "python",
   "nbconvert_exporter": "python",
   "pygments_lexer": "ipython3",
   "version": "3.13.5"
  }
 },
 "nbformat": 4,
 "nbformat_minor": 5
}
